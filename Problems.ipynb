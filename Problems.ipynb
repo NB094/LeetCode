{
 "cells": [
  {
   "cell_type": "markdown",
   "id": "860aed40-131b-4e57-b1d2-a43f7e8365d5",
   "metadata": {},
   "source": [
    "# LeetCode Problems"
   ]
  },
  {
   "cell_type": "markdown",
   "id": "36359e95-d10b-41b9-b393-1d18f8403dac",
   "metadata": {},
   "source": [
    "This notebook is a collection of my solutions to various problems on [LeetCode.](https://leetcode.com/) I've made sure to include plenty of docstrings and comments. Feel free to let me know if you have any questions!"
   ]
  },
  {
   "cell_type": "markdown",
   "id": "47091c3f-3bda-42d6-ab10-231a34787ff9",
   "metadata": {},
   "source": [
    "## [Two Sum](https://leetcode.com/problems/two-sum/)\n",
    "Difficulty: Easy"
   ]
  },
  {
   "cell_type": "code",
   "execution_count": 46,
   "id": "75716efc-e994-4ff6-b498-ba20220dc065",
   "metadata": {},
   "outputs": [],
   "source": [
    "def twoSum(nums, target):\n",
    "    \"\"\"\n",
    "    Given an array of integers nums and an integer target, returns indices of the two numbers that\n",
    "    add up to target.\n",
    "    \n",
    "    ==Input==\n",
    "      nums: an array of integer nums.\n",
    "      target: the target integer for two \"nums\" elements to add up to.\n",
    "      \n",
    "    ==Output==\n",
    "      A list of two indices from \"nums\" whose corresponding elements add up to the target number.\n",
    "    \"\"\"\n",
    "    # Loop through all numbers and indices.\n",
    "    for i, first_num in enumerate(nums):\n",
    "\n",
    "        # Calculate the desired second number value and corresponding negative.\n",
    "        second_num = first_num - target\n",
    "        second_num_negative = second_num * -1\n",
    "\n",
    "        # Check to see if the second number is in the list.\n",
    "        if second_num in nums[i+1:]:\n",
    "            return [i, nums[i+1:].index(second_num) + i + 1]\n",
    "        elif second_num_negative in nums[i+1:]:\n",
    "            return [i, nums[i+1:].index(second_num_negative) + i + 1]"
   ]
  },
  {
   "cell_type": "code",
   "execution_count": 48,
   "id": "fbc7b564-ebb8-46cc-957f-719122a88268",
   "metadata": {},
   "outputs": [
    {
     "data": {
      "text/plain": [
       "[0, 1]"
      ]
     },
     "execution_count": 48,
     "metadata": {},
     "output_type": "execute_result"
    }
   ],
   "source": [
    "twoSum([2,7,11,15], 9)"
   ]
  },
  {
   "cell_type": "code",
   "execution_count": 39,
   "id": "7ed57802-1977-4c71-a621-0a70ab082bd6",
   "metadata": {},
   "outputs": [
    {
     "data": {
      "text/plain": [
       "[0, 2]"
      ]
     },
     "execution_count": 39,
     "metadata": {},
     "output_type": "execute_result"
    }
   ],
   "source": [
    "twoSum([3,2,3], 6)"
   ]
  },
  {
   "cell_type": "code",
   "execution_count": 47,
   "id": "855c1851-8aec-4b86-b3ea-8483ca0cf3cb",
   "metadata": {},
   "outputs": [
    {
     "data": {
      "text/plain": [
       "[2, 4]"
      ]
     },
     "execution_count": 47,
     "metadata": {},
     "output_type": "execute_result"
    }
   ],
   "source": [
    "twoSum([-1,-2,-3,-4,-5], -8)"
   ]
  },
  {
   "cell_type": "markdown",
   "id": "e8da3132-6f79-4c6a-bb40-2197ad2c80d6",
   "metadata": {},
   "source": [
    "## [Palindrome Number](https://leetcode.com/problems/palindrome-number/)\n",
    "Difficulty: Easy"
   ]
  },
  {
   "cell_type": "code",
   "execution_count": 63,
   "id": "272d80cf-b061-44fc-855d-a1f6a2ab1e2e",
   "metadata": {},
   "outputs": [],
   "source": [
    "def isPalindrome(x):\n",
    "    \"\"\"\n",
    "    Tests whether a number is the same backwards as it is forwards.\n",
    "    \n",
    "    ==Input==\n",
    "      x: an integer.\n",
    "    \n",
    "    ==Output==\n",
    "      True or false with regards to if the number is a palindrome.\n",
    "    \"\"\"\n",
    "    # Initialize empty string for reversed digits.\n",
    "    reversed_x = ''\n",
    "    \n",
    "    # Define the reversed digits.\n",
    "    for digit in str(''.join(reversed(str(x)))):\n",
    "        reversed_x += digit\n",
    "    \n",
    "    if str(x) == reversed_x:\n",
    "        return True\n",
    "    else:\n",
    "        return False\n",
    "    \n",
    "# A more elegant solution I found:\n",
    "# def isPalindrome(x):\n",
    "#     return str(x) == str(x)[::-1]"
   ]
  },
  {
   "cell_type": "code",
   "execution_count": 64,
   "id": "fbbc169b-172f-470c-978c-55ef5124ba04",
   "metadata": {},
   "outputs": [
    {
     "data": {
      "text/plain": [
       "True"
      ]
     },
     "execution_count": 64,
     "metadata": {},
     "output_type": "execute_result"
    }
   ],
   "source": [
    "isPalindrome(121)"
   ]
  },
  {
   "cell_type": "code",
   "execution_count": 65,
   "id": "e1d41d5f-9f0c-498e-8382-d403366753a8",
   "metadata": {},
   "outputs": [
    {
     "data": {
      "text/plain": [
       "False"
      ]
     },
     "execution_count": 65,
     "metadata": {},
     "output_type": "execute_result"
    }
   ],
   "source": [
    "isPalindrome(123)"
   ]
  },
  {
   "cell_type": "markdown",
   "id": "c9a6ab04-290d-4425-9ff0-b46a3854a466",
   "metadata": {},
   "source": [
    "## [Longest Substring Without Repeating Characters](https://leetcode.com/problems/longest-substring-without-repeating-characters/)\n",
    "Difficulty: Medium"
   ]
  },
  {
   "cell_type": "code",
   "execution_count": 106,
   "id": "bf59ea96-68bd-48df-bace-1ab28224069d",
   "metadata": {},
   "outputs": [],
   "source": [
    "import regex as re\n",
    "\n",
    "def lengthOfLongestSubstring(s):\n",
    "    \"\"\"\n",
    "    Given a string s, finds the length of the longest substring without repeating characters.\n",
    "    \n",
    "    ==Input==\n",
    "      s: a string.\n",
    "      \n",
    "    ==Output==\n",
    "      An integer representing the length of the longest possible substring without repeating characters.\n",
    "    \"\"\"\n",
    "    \n",
    "    substring_set = set()\n",
    "    i, j = 0, 0\n",
    "    substring_length = 0\n",
    "\n",
    "    # Loop through each index in the string.\n",
    "    for i in range(len(s)):\n",
    "        \n",
    "        # Add the character to substring_set if it's not a duplicate.\n",
    "        if s[i] not in substring_set:\n",
    "            substring_set.add(s[i])\n",
    "        else:\n",
    "            # If a would-be duplicate character is found, remove characters from substring_set until the first \n",
    "            # character is gone, starting with the leftmost character in the input string \"s\".\n",
    "            # This way, we can continue comparing the length of subsequent substrings.\n",
    "            while j <= i and s[i] in substring_set:\n",
    "                substring_set.remove(s[j])\n",
    "                j += 1\n",
    "                \n",
    "            # Add the character of interest back in.\n",
    "            substring_set.add(s[i])\n",
    "        \n",
    "        # The answer is the maximum of the previous substring length compared to (i - j + 1), a representation of\n",
    "        # a new substring when dropping a previous duplicate character.\n",
    "        substring_length = max(substring_length, i - j + 1)\n",
    "        \n",
    "    return substring_length"
   ]
  },
  {
   "cell_type": "code",
   "execution_count": 107,
   "id": "94e588dc-40f4-44b0-a7b9-9eccb04f6287",
   "metadata": {},
   "outputs": [
    {
     "data": {
      "text/plain": [
       "4"
      ]
     },
     "execution_count": 107,
     "metadata": {},
     "output_type": "execute_result"
    }
   ],
   "source": [
    "lengthOfLongestSubstring('pwxwkekw')"
   ]
  }
 ],
 "metadata": {
  "kernelspec": {
   "display_name": "Python 3 (ipykernel)",
   "language": "python",
   "name": "python3"
  },
  "language_info": {
   "codemirror_mode": {
    "name": "ipython",
    "version": 3
   },
   "file_extension": ".py",
   "mimetype": "text/x-python",
   "name": "python",
   "nbconvert_exporter": "python",
   "pygments_lexer": "ipython3",
   "version": "3.7.11"
  }
 },
 "nbformat": 4,
 "nbformat_minor": 5
}
