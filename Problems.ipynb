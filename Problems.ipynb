{
 "cells": [
  {
   "cell_type": "markdown",
   "id": "860aed40-131b-4e57-b1d2-a43f7e8365d5",
   "metadata": {},
   "source": [
    "# LeetCode Problems"
   ]
  },
  {
   "cell_type": "markdown",
   "id": "36359e95-d10b-41b9-b393-1d18f8403dac",
   "metadata": {},
   "source": [
    "This notebook is a collection of my solutions to various problems on [LeetCode.](https://leetcode.com/) I've made sure to include plenty of docstrings and comments. Feel free to let me know if you have any questions!"
   ]
  },
  {
   "cell_type": "markdown",
   "id": "47091c3f-3bda-42d6-ab10-231a34787ff9",
   "metadata": {},
   "source": [
    "## [Two Sum](https://leetcode.com/problems/two-sum/)\n",
    "Difficulty: Easy"
   ]
  },
  {
   "cell_type": "code",
   "execution_count": 46,
   "id": "75716efc-e994-4ff6-b498-ba20220dc065",
   "metadata": {},
   "outputs": [],
   "source": [
    "def twoSum(nums, target):\n",
    "    \"\"\"\n",
    "    Given an array of integers nums and an integer target, returns indices of the two numbers that\n",
    "    add up to target.\n",
    "    \n",
    "    ==Input==\n",
    "      nums: an array of integer nums.\n",
    "      target: the target integer for two \"nums\" elements to add up to.\n",
    "      \n",
    "    ==Output==\n",
    "      A list of two indices from \"nums\" whose corresponding elements add up to the target number.\n",
    "    \"\"\"\n",
    "    # Loop through all numbers and indices.\n",
    "    for i, first_num in enumerate(nums):\n",
    "\n",
    "        # Calculate the desired second number value and corresponding negative.\n",
    "        second_num = first_num - target\n",
    "        second_num_negative = second_num * -1\n",
    "\n",
    "        # Check to see if the second number is in the list.\n",
    "        if second_num in nums[i+1:]:\n",
    "            return [i, nums[i+1:].index(second_num) + i + 1]\n",
    "        elif second_num_negative in nums[i+1:]:\n",
    "            return [i, nums[i+1:].index(second_num_negative) + i + 1]"
   ]
  },
  {
   "cell_type": "code",
   "execution_count": 48,
   "id": "fbc7b564-ebb8-46cc-957f-719122a88268",
   "metadata": {},
   "outputs": [
    {
     "data": {
      "text/plain": [
       "[0, 1]"
      ]
     },
     "execution_count": 48,
     "metadata": {},
     "output_type": "execute_result"
    }
   ],
   "source": [
    "twoSum([2,7,11,15], 9)"
   ]
  },
  {
   "cell_type": "code",
   "execution_count": 39,
   "id": "7ed57802-1977-4c71-a621-0a70ab082bd6",
   "metadata": {},
   "outputs": [
    {
     "data": {
      "text/plain": [
       "[0, 2]"
      ]
     },
     "execution_count": 39,
     "metadata": {},
     "output_type": "execute_result"
    }
   ],
   "source": [
    "twoSum([3,2,3], 6)"
   ]
  },
  {
   "cell_type": "code",
   "execution_count": 47,
   "id": "855c1851-8aec-4b86-b3ea-8483ca0cf3cb",
   "metadata": {},
   "outputs": [
    {
     "data": {
      "text/plain": [
       "[2, 4]"
      ]
     },
     "execution_count": 47,
     "metadata": {},
     "output_type": "execute_result"
    }
   ],
   "source": [
    "twoSum([-1,-2,-3,-4,-5], -8)"
   ]
  },
  {
   "cell_type": "markdown",
   "id": "e8da3132-6f79-4c6a-bb40-2197ad2c80d6",
   "metadata": {},
   "source": [
    "## [Palindrome Number](https://leetcode.com/problems/palindrome-number/)\n",
    "Difficulty: Easy"
   ]
  },
  {
   "cell_type": "code",
   "execution_count": 63,
   "id": "272d80cf-b061-44fc-855d-a1f6a2ab1e2e",
   "metadata": {},
   "outputs": [],
   "source": [
    "def isPalindrome(x):\n",
    "    \"\"\"\n",
    "    Tests whether a number is the same backwards as it is forwards.\n",
    "    \n",
    "    ==Input==\n",
    "      x: an integer.\n",
    "    \n",
    "    ==Output==\n",
    "      True or false with regards to if the number is a palindrome.\n",
    "    \"\"\"\n",
    "    # Initialize empty string for reversed digits.\n",
    "    reversed_x = ''\n",
    "    \n",
    "    # Define the reversed digits.\n",
    "    for digit in str(''.join(reversed(str(x)))):\n",
    "        reversed_x += digit\n",
    "    \n",
    "    if str(x) == reversed_x:\n",
    "        return True\n",
    "    else:\n",
    "        return False\n",
    "    \n",
    "# A more elegant solution I found:\n",
    "# def isPalindrome(x):\n",
    "#     return str(x) == str(x)[::-1]"
   ]
  },
  {
   "cell_type": "code",
   "execution_count": 64,
   "id": "fbbc169b-172f-470c-978c-55ef5124ba04",
   "metadata": {},
   "outputs": [
    {
     "data": {
      "text/plain": [
       "True"
      ]
     },
     "execution_count": 64,
     "metadata": {},
     "output_type": "execute_result"
    }
   ],
   "source": [
    "isPalindrome(121)"
   ]
  },
  {
   "cell_type": "code",
   "execution_count": 65,
   "id": "e1d41d5f-9f0c-498e-8382-d403366753a8",
   "metadata": {},
   "outputs": [
    {
     "data": {
      "text/plain": [
       "False"
      ]
     },
     "execution_count": 65,
     "metadata": {},
     "output_type": "execute_result"
    }
   ],
   "source": [
    "isPalindrome(123)"
   ]
  },
  {
   "cell_type": "markdown",
   "id": "c9a6ab04-290d-4425-9ff0-b46a3854a466",
   "metadata": {},
   "source": [
    "## [Longest Substring Without Repeating Characters](https://leetcode.com/problems/longest-substring-without-repeating-characters/)\n",
    "Difficulty: Medium"
   ]
  },
  {
   "cell_type": "code",
   "execution_count": 106,
   "id": "bf59ea96-68bd-48df-bace-1ab28224069d",
   "metadata": {},
   "outputs": [],
   "source": [
    "import regex as re\n",
    "\n",
    "def lengthOfLongestSubstring(s):\n",
    "    \"\"\"\n",
    "    Given a string s, finds the length of the longest substring without repeating characters.\n",
    "    \n",
    "    ==Input==\n",
    "      s: a string.\n",
    "      \n",
    "    ==Output==\n",
    "      An integer representing the length of the longest possible substring without repeating characters.\n",
    "    \"\"\"\n",
    "    \n",
    "    substring_set = set()\n",
    "    i, j = 0, 0\n",
    "    substring_length = 0\n",
    "\n",
    "    # Loop through each index in the string.\n",
    "    for i in range(len(s)):\n",
    "        \n",
    "        # Add the character to substring_set if it's not a duplicate.\n",
    "        if s[i] not in substring_set:\n",
    "            substring_set.add(s[i])\n",
    "        else:\n",
    "            # If a would-be duplicate character is found, remove characters from substring_set until the first \n",
    "            # character is gone, starting with the leftmost character in the input string \"s\".\n",
    "            # This way, we can continue comparing the length of subsequent substrings.\n",
    "            while j <= i and s[i] in substring_set:\n",
    "                substring_set.remove(s[j])\n",
    "                j += 1\n",
    "                \n",
    "            # Add the character of interest back in.\n",
    "            substring_set.add(s[i])\n",
    "        \n",
    "        # The answer is the maximum of the previous substring length compared to (i - j + 1), a representation of\n",
    "        # a new substring when dropping a previous duplicate character.\n",
    "        substring_length = max(substring_length, i - j + 1)\n",
    "        \n",
    "    return substring_length"
   ]
  },
  {
   "cell_type": "code",
   "execution_count": 107,
   "id": "94e588dc-40f4-44b0-a7b9-9eccb04f6287",
   "metadata": {},
   "outputs": [
    {
     "data": {
      "text/plain": [
       "4"
      ]
     },
     "execution_count": 107,
     "metadata": {},
     "output_type": "execute_result"
    }
   ],
   "source": [
    "lengthOfLongestSubstring('pwxwkekw')"
   ]
  },
  {
   "cell_type": "markdown",
   "id": "6f231a20-8a77-4ca0-8754-e61aa7a58496",
   "metadata": {},
   "source": [
    "## [Median of Two Sorted Arrays](https://leetcode.com/problems/median-of-two-sorted-arrays/)\n",
    "Difficulty: Hard"
   ]
  },
  {
   "cell_type": "code",
   "execution_count": 11,
   "id": "b1360f61-9a5c-44d5-8231-036ede9a579e",
   "metadata": {},
   "outputs": [],
   "source": [
    "# With a library\n",
    "\n",
    "import numpy as np\n",
    "\n",
    "def findMedianSortedArrays(nums1, nums2):\n",
    "    return np.median(np.sort(np.concatenate((nums1, nums2))))"
   ]
  },
  {
   "cell_type": "code",
   "execution_count": 12,
   "id": "546e776f-8cc7-43bc-85fd-819fb5a2bd60",
   "metadata": {},
   "outputs": [
    {
     "data": {
      "text/plain": [
       "3.5"
      ]
     },
     "execution_count": 12,
     "metadata": {},
     "output_type": "execute_result"
    }
   ],
   "source": [
    "findMedianSortedArrays([1,2,3],[4,5,6])"
   ]
  },
  {
   "cell_type": "code",
   "execution_count": 35,
   "id": "fed794f1-a9f9-4c75-bb0c-c017a4e1071e",
   "metadata": {},
   "outputs": [],
   "source": [
    "# Without a library\n",
    "\n",
    "def findMedianSortedArrays(nums1, nums2):\n",
    "    \"\"\"\n",
    "    Given two lists of numbers, merge and sort the lists and return the median.\n",
    "    \n",
    "    ==Input==\n",
    "      nums1: the first list of numbers.\n",
    "      nums2: the second list of numbers.\n",
    "      \n",
    "    ==Output==\n",
    "      median: the median value of the merged and sorted list.\n",
    "    \"\"\"\n",
    "    merged_list = sorted(nums1 + nums2)\n",
    "    \n",
    "    middle_index = len(merged_list)/2\n",
    "    \n",
    "    # Check to see if the middle index is a float or not, and calculate the median accordingly.\n",
    "    if int(middle_index) != middle_index:\n",
    "        # If the middle index exists (i.e. odd number of merged_list elements), simply retrieve the value.\n",
    "        median = merged_list[int(middle_index)]\n",
    "        \n",
    "    else:        \n",
    "        # If the middle index does not exist (i.e. even number of merged_list elements), calculate the median as\n",
    "        #    the average of the two elements nearest to the middle.\n",
    "        median = (merged_list[int(middle_index) - 1] + merged_list[int(middle_index)]) / 2\n",
    "            \n",
    "    return median"
   ]
  },
  {
   "cell_type": "code",
   "execution_count": 36,
   "id": "5de6591b-d0ad-4e7a-b6d7-633dd7e93204",
   "metadata": {},
   "outputs": [
    {
     "data": {
      "text/plain": [
       "3.5"
      ]
     },
     "execution_count": 36,
     "metadata": {},
     "output_type": "execute_result"
    }
   ],
   "source": [
    "findMedianSortedArrays([2, 4], [3, 5])"
   ]
  },
  {
   "cell_type": "markdown",
   "id": "a0652d72-cc51-40e5-bb9e-bd5ed2b89381",
   "metadata": {},
   "source": [
    "## [Longest Palindromic Substring](https://leetcode.com/problems/longest-palindromic-substring/)\n",
    "Difficulty: Medium"
   ]
  },
  {
   "cell_type": "code",
   "execution_count": 69,
   "id": "1c49156f-c4f1-4208-9567-9504612192fa",
   "metadata": {},
   "outputs": [],
   "source": [
    "# Slower solution, very similar to my first attempt.\n",
    "\n",
    "def longestPalindrome(s):\n",
    "    \"\"\"\n",
    "    Given an input string, returns the longest palindrome substring.\n",
    "    \n",
    "    ==Input==\n",
    "      s: input string.\n",
    "      \n",
    "    ==Output==\n",
    "      answer: longest palindrome substring\n",
    "    \"\"\"\n",
    "    answer = ''\n",
    "\n",
    "    if s == s[::-1]:\n",
    "        answer = s\n",
    "    \n",
    "    elif len(s) == 2:\n",
    "        answer = s[0]\n",
    "        \n",
    "    else:\n",
    "        for i in range(0, len(s)+1):\n",
    "            for j in range(i+2, len(s)+1):\n",
    "                if s[i:j] == s[i:j][::-1] and len(s[i:j]) > len(answer):\n",
    "                    answer = s[i:j]                    \n",
    "        if len(answer) == 0:\n",
    "            answer = s[0]\n",
    "                    \n",
    "    return answer"
   ]
  },
  {
   "cell_type": "code",
   "execution_count": 73,
   "id": "82b56b11-4422-482e-b19c-d8deeb5a2b69",
   "metadata": {},
   "outputs": [
    {
     "data": {
      "text/plain": [
       "'cac'"
      ]
     },
     "execution_count": 73,
     "metadata": {},
     "output_type": "execute_result"
    }
   ],
   "source": [
    "longestPalindrome('axscacc')"
   ]
  },
  {
   "cell_type": "code",
   "execution_count": 75,
   "id": "f3cb31a9-e2d3-481a-8a94-5852037a3ac5",
   "metadata": {},
   "outputs": [],
   "source": [
    "# Faster solution, found in Discuss section: https://leetcode.com/problems/longest-palindromic-substring/discuss/1530013/Python-or-Simple-or-Easy\n",
    "\n",
    "def checkPalindrome(s, lo, hi):\n",
    "    \"\"\"\n",
    "    Given an input string with search indices, return the longest palindrome.\n",
    "    \n",
    "    ==Input==\n",
    "      s: input string.\n",
    "      lo: leftmost index to search at.\n",
    "      hi: rightmost index to search at.\n",
    "      \n",
    "    ==Output==\n",
    "      The longest palindrome string from the input parameters, if found.\n",
    "    \"\"\"\n",
    "    # Expand as long as \"lo\" can grow to the left and \"hi\" can grow to the right, and characters at those index match.\n",
    "    while lo>=0 and hi<len(s) and s[lo]==s[hi]:\n",
    "        lo -= 1\n",
    "        hi += 1\n",
    "\n",
    "    # Return the slice from original string that starts from our last matched index of lo and hi.\n",
    "    return s[lo+1:hi]\n",
    "\n",
    "\n",
    "def longestPalindrome(s):\n",
    "    \"\"\"\n",
    "    Given an input string, returns the longest palindrome substring.\n",
    "    \n",
    "    ==Input==\n",
    "      s: input string.\n",
    "      \n",
    "    ==Output==\n",
    "      result: longest palindrome substring.\n",
    "    \"\"\"\n",
    "    result = \"\"\n",
    "        \n",
    "    # Loop through indices in the input string starting at i = 0\n",
    "    for i in range(len(s)):\n",
    "        # Checking for odd-length palindromes.\n",
    "        word1 = checkPalindrome(s, i, i)\n",
    "        # Checking for even-length palindromes.\n",
    "        word2 = checkPalindrome(s, i, i+1)\n",
    "\n",
    "        # Choose the maximum palindrome length.\n",
    "        word1 = word1 if len(word1) >= len(word2) else word2 \n",
    "\n",
    "        # Compare word1 with previous results.\n",
    "        result = word1 if len(word1) >= len(result) else result\n",
    "\n",
    "    return result"
   ]
  },
  {
   "cell_type": "code",
   "execution_count": 76,
   "id": "37e0da14-2844-455e-b705-f29200795a42",
   "metadata": {},
   "outputs": [
    {
     "data": {
      "text/plain": [
       "'cac'"
      ]
     },
     "execution_count": 76,
     "metadata": {},
     "output_type": "execute_result"
    }
   ],
   "source": [
    "longestPalindrome('axscacc')"
   ]
  },
  {
   "cell_type": "markdown",
   "id": "8ce173cc-2763-49c5-b991-53b179627986",
   "metadata": {},
   "source": [
    "## [Roman to Integer](https://leetcode.com/problems/roman-to-integer/)\n",
    "Difficulty: Easy"
   ]
  },
  {
   "cell_type": "code",
   "execution_count": 90,
   "id": "534b7e70-420f-4fe5-8a4d-42998affc1e3",
   "metadata": {},
   "outputs": [],
   "source": [
    "def romanToInt(s):\n",
    "    \"\"\"\n",
    "    Given an input string representing a Roman numeral, convert to a numerical value.\n",
    "    \n",
    "    ==Input==\n",
    "      s: a input Roman numeral string.\n",
    "      \n",
    "    ==Output==\n",
    "      answer: a numerical conversion of the Roman numeral.\n",
    "    \"\"\"\n",
    "    \n",
    "    # Initialize Roman Numeral dictionary\n",
    "    numeral_dict = {'I': 1, 'IV': 4, 'V': 5, 'IX': 9, 'X': 10, 'XL': 40, 'L': 50, 'XC': 90, \n",
    "                    'C': 100, 'CD': 400, 'D': 500, 'CM': 900, 'M': 1000}\n",
    "    \n",
    "    # Initialize iteration variables\n",
    "    answer, i, lookup = 0, 0, ''\n",
    "    \n",
    "    while i in range(len(s)):      \n",
    "        if i != len(s):\n",
    "            if s[i:i+2] in ['IV', 'IX', 'XL', 'XC', 'CD', 'CM']:\n",
    "                lookup = s[i:i+2]\n",
    "                i += 2\n",
    "            else:\n",
    "                lookup = s[i]\n",
    "                i += 1\n",
    "        else:\n",
    "            lookup = s[i]\n",
    "            i += 1\n",
    "        \n",
    "        answer += numeral_dict[lookup]\n",
    "        \n",
    "    return answer"
   ]
  },
  {
   "cell_type": "code",
   "execution_count": 95,
   "id": "59da7421-da7c-429c-8318-aac4efd7567c",
   "metadata": {},
   "outputs": [
    {
     "data": {
      "text/plain": [
       "1994"
      ]
     },
     "execution_count": 95,
     "metadata": {},
     "output_type": "execute_result"
    }
   ],
   "source": [
    "romanToInt('MCMXCIV')"
   ]
  }
 ],
 "metadata": {
  "kernelspec": {
   "display_name": "Python 3 (ipykernel)",
   "language": "python",
   "name": "python3"
  },
  "language_info": {
   "codemirror_mode": {
    "name": "ipython",
    "version": 3
   },
   "file_extension": ".py",
   "mimetype": "text/x-python",
   "name": "python",
   "nbconvert_exporter": "python",
   "pygments_lexer": "ipython3",
   "version": "3.7.11"
  }
 },
 "nbformat": 4,
 "nbformat_minor": 5
}
